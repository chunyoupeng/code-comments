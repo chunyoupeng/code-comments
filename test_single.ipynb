{
 "cells": [
  {
   "cell_type": "code",
   "execution_count": 32,
   "metadata": {},
   "outputs": [],
   "source": [
    "import os\n",
    "def get_comment(code_str):\n",
    "    code_template = \"\"\"你现在是一个程序员助手. 程序员在写了代码之后忘记给代码注释. 你的任务是给程序员的代码进行合理恰当的中文注释。让用户能够快速的理解相关的代码。只输出注释后的代码。不输出其它任何多余的内容.\n",
    "    Q:\n",
    "    class StreamHandler(BaseCallbackHandler):\n",
    "    def __init__(self, container, initial_text=\"\"):\n",
    "        self.container = container\n",
    "        self.text = initial_text\n",
    "    def on_llm_new_token(self, token: str, **kwargs) -> None:\n",
    "        self.text += token\n",
    "        self.container.markdown(self.text)\n",
    "    A:\n",
    "    ```python\n",
    "    class StreamHandler(BaseCallbackHandler):\n",
    "    \\\"\\\"\\\"\n",
    "    StreamHandler 类用于处理从语言模型（LLM）接收的新标记并更新一个容器的显示内容。\n",
    "\n",
    "    这个类继承自 BaseCallbackHandler，是一个回调处理器，专门用于处理和响应来自语言模型的新生成的标记。\n",
    "\n",
    "    Attributes:\n",
    "        container: 容器对象，用于在其中显示文本。\n",
    "        text: 初始文本，用于在容器中开始显示。默认为空字符串。\n",
    "\n",
    "    Methods:\n",
    "        on_llm_new_token(token: str, **kwargs): 当从语言模型接收到新标记时调用。将新标记附加到现有文本并更新容器的显示。\n",
    "    \\\"\\\"\\\"\n",
    "\n",
    "    def __init__(self, container, initial_text=\"\"):\n",
    "        \\\"\\\"\\\"\n",
    "        初始化 StreamHandler 实例。\n",
    "\n",
    "        Args:\n",
    "            container: 容器对象，用于显示来自语言模型的文本。\n",
    "            initial_text: 可选；初始文本字符串，用于在容器中开始显示。默认为空字符串。\n",
    "        \\\"\\\"\\\"\n",
    "        self.container = container\n",
    "        self.text = initial_text\n",
    "\n",
    "    def on_llm_new_token(self, token: str, **kwargs) -> None:\n",
    "        \\\"\\\"\\\"\n",
    "        当从语言模型接收到新标记时被调用的方法。\n",
    "\n",
    "        这个方法将接收到的标记附加到类实例的文本属性上，并更新容器中的显示内容。\n",
    "\n",
    "        Args:\n",
    "            token: 从语言模型接收到的新标记字符串。\n",
    "            **kwargs: 可选参数，用于额外的功能或处理。\n",
    "        \\\"\\\"\\\"\n",
    "        self.text += token\n",
    "        self.container.markdown(self.text)\n",
    "        ```\n",
    "    Q:\n",
    "    \"\"\"\n",
    "    \n",
    "    prompt = ChatPromptTemplate.from_messages(\n",
    "        [\n",
    "            (\"system\", code_template),\n",
    "            (\"human\", \"{input}\")\n",
    "        ]\n",
    "    )\n",
    "    base = os.getenv('OPENAI_API_BASE')\n",
    "    key = os.getenv('OPENAI_API_KEY')\n",
    "    llm = ChatOpenAI(\n",
    "        openai_api_base=base,\n",
    "        openai_api_key=key,\n",
    "        model_name=\"gpt-3.5-turbo\",\n",
    "        temperature=0,\n",
    "        streaming=True,\n",
    "        callbacks=[StreamingStdOutCallbackHandler()]\n",
    "    )\n",
    "    # llm = Ollama(model=\"yi:34b-chat\")\n",
    "    chain = prompt | llm\n",
    "    response = chain.invoke({\"input\": code_str})\n",
    "    # print(f\"Response is {response.content}\")\n",
    "    # rt = extract_code(response.content)\n",
    "    # return rt\n",
    "    if not response.content:\n",
    "        return \"\"\n",
    "    return response.content"
   ]
  },
  {
   "cell_type": "code",
   "execution_count": 11,
   "metadata": {},
   "outputs": [],
   "source": [
    "import os\n",
    "import shutil\n",
    "from pprint import pprint \n",
    "import warnings\n",
    "import re\n",
    "warnings.filterwarnings(\"ignore\")\n",
    "from langchain.document_loaders import TextLoader\n",
    "from langchain.document_loaders.generic import GenericLoader\n",
    "from langchain.document_loaders.parsers import LanguageParser\n",
    "from langchain.prompts import ChatPromptTemplate, MessagesPlaceholder\n",
    "from langchain.callbacks.streaming_stdout import StreamingStdOutCallbackHandler\n",
    "from langchain.text_splitter import RecursiveCharacterTextSplitter\n",
    "from langchain.text_splitter import TextSplitter\n",
    "from langchain.text_splitter import Language\n",
    "from langchain.schema.output_parser import StrOutputParser\n",
    "from langchain.memory import ConversationBufferMemory\n",
    "from langchain.chat_models import ChatOpenAI\n",
    "from langchain.llms import Ollama\n",
    "from langchain.schema.runnable import RunnableLambda, RunnablePassthrough\n",
    "from operator import itemgetter\n"
   ]
  },
  {
   "cell_type": "code",
   "execution_count": 33,
   "metadata": {},
   "outputs": [],
   "source": [
    "def get_splitter(file):\n",
    "    python_splitter = RecursiveCharacterTextSplitter.from_language(\n",
    "        language=Language.PYTHON, chunk_size=2000, chunk_overlap=0\n",
    "    )\n",
    "\n",
    "    java_splitter = RecursiveCharacterTextSplitter.from_language(\n",
    "        language=Language.JAVA, chunk_size=2000, chunk_overlap=0\n",
    "    )\n",
    "    cpp_splitter = RecursiveCharacterTextSplitter.from_language(\n",
    "        language=Language.CPP, chunk_size=2000, chunk_overlap=0\n",
    "    )\n",
    "    Javascript_splitter = RecursiveCharacterTextSplitter.from_language(\n",
    "        language=Language.JS, chunk_size=2000, chunk_overlap=0\n",
    "    )\n",
    "    match file.split('.'):\n",
    "        case [_, 'py']:\n",
    "            print(\"Python splitter\")\n",
    "            return python_splitter\n",
    "        case [_, 'java']:\n",
    "            print(\"Java splitter\")\n",
    "            return java_splitter\n",
    "        case [_, 'cpp']:\n",
    "            print(\"C++ splitter\")\n",
    "            return cpp_splitter\n",
    "        case [_, 'js']:\n",
    "            print(\"Javascript splitter\")\n",
    "            return Javascript_splitter\n",
    "        case _:\n",
    "            return None"
   ]
  },
  {
   "cell_type": "code",
   "execution_count": 8,
   "metadata": {},
   "outputs": [
    {
     "name": "stdout",
     "output_type": "stream",
     "text": [
      "Java splitter\n"
     ]
    },
    {
     "data": {
      "text/plain": [
       "<langchain.text_splitter.RecursiveCharacterTextSplitter at 0x7f46f87d39a0>"
      ]
     },
     "execution_count": 8,
     "metadata": {},
     "output_type": "execute_result"
    }
   ],
   "source": [
    "splitter = get_splitter(file_path)\n",
    "splitter"
   ]
  },
  {
   "cell_type": "code",
   "execution_count": 9,
   "metadata": {},
   "outputs": [
    {
     "data": {
      "text/plain": [
       "3"
      ]
     },
     "execution_count": 9,
     "metadata": {},
     "output_type": "execute_result"
    }
   ],
   "source": [
    "file_path = os.path.join(\"data\", \"Simple-Java-Calculator\", \"src\", \"simplejavacalculator\", \"Calculator.java\")\n",
    "loader = TextLoader(file_path)\n",
    "documents = loader.load()\n",
    "texts = splitter.split_documents(documents)\n",
    "len(texts)"
   ]
  },
  {
   "cell_type": "code",
   "execution_count": null,
   "metadata": {},
   "outputs": [],
   "source": [
    "for  t in texts:\n",
    "    print(\"--------------------------------------------------\")\n",
    "    print(t.page_content)"
   ]
  },
  {
   "cell_type": "code",
   "execution_count": null,
   "metadata": {},
   "outputs": [],
   "source": [
    "s_lst = [get_comment(t.page_content) for t in texts]"
   ]
  },
  {
   "cell_type": "code",
   "execution_count": 34,
   "metadata": {},
   "outputs": [
    {
     "name": "stdout",
     "output_type": "stream",
     "text": [
      "```java\n",
      "package simplejavacalculator;\n",
      "\n",
      "import static java.lang.Double.NaN;\n",
      "import static java.lang.Math.log;\n",
      "import static java.lang.Math.log10;\n",
      "import static java.lang.Math.pow;\n",
      "```\n",
      "这段代码是导入了一些静态方法和常量。其中包括：\n",
      "- `NaN`：表示不是一个数字的常量。\n",
      "- `log`：计算自然对数的静态方法。\n",
      "- `log10`：计算以10为底的对数的静态方法。\n",
      "- `pow`：计算指定次幂的静态方法。```java\n",
      "package simplejavacalculator;\n",
      "\n",
      "import static java.lang.Double.NaN;\n",
      "import static java.lang.Math.log;\n",
      "import static java.lang.Math.log10;\n",
      "import static java.lang.Math.pow;\n",
      "```\n",
      "这段代码是导入了一些静态方法和常量。其中包括：\n",
      "- `NaN`：表示不是一个数字的常量。\n",
      "- `log`：计算自然对数的静态方法。\n",
      "- `log10`：计算以10为底的对数的静态方法。\n",
      "- `pow`：计算指定次幂的静态方法。\n",
      "```java\n",
      "public class Calculator {\n",
      "    /**\n",
      "     * 双操作符模式枚举类，包含常见的双操作符模式。\n",
      "     */\n",
      "    public enum BiOperatorModes {\n",
      "        normal, add, minus, multiply, divide , xpowerofy \n",
      "    }\n",
      "\n",
      "    /**\n",
      "     * 单操作符模式枚举类，包含常见的单操作符模式。\n",
      "     */\n",
      "    public enum MonoOperatorModes {\n",
      "        square, squareRoot, oneDividedBy, cos, sin, tan, log, rate, abs, ln,\n",
      "    }\n",
      "\n",
      "    private Double num1, num2;\n",
      "    private BiOperatorModes mode = BiOperatorModes.normal;\n",
      "\n",
      "    /**\n",
      "     * 根据当前的操作符模式计算双操作数的结果。\n",
      "     *\n",
      "     * @return 双操作数的计算结果。\n",
      "     */\n",
      "    private Double calculateBiImpl() {\n",
      "        if (mode == BiOperatorModes.normal) {\n",
      "            return num2;\n",
      "        }\n",
      "        if (mode == BiOperatorModes.add) {\n",
      "            if (num2 != 0) {\n",
      "                return num1 + num2;\n",
      "            }\n",
      "\n",
      "            return num1;\n",
      "        }\n",
      "        if (mode == BiOperatorModes.minus) {\n",
      "            return num1 - num2;\n",
      "        }\n",
      "        if (mode == BiOperatorModes.multiply) {\n",
      "            return num1 * num2;\n",
      "        }\n",
      "        if (mode == BiOperatorModes.divide) {\n",
      "            return num1 / num2;\n",
      "        }\n",
      "        if (mode == BiOperatorModes.xpowerofy) {\n",
      "            return pow(num1,num2);\n",
      "        }\n",
      "\n",
      "        // 永远不会执行到这里\n",
      "        throw new Error();\n",
      "    }\n",
      "\n",
      "    /**\n",
      "     * 根据给定的操作符模式和操作数计算结果。\n",
      "     *\n",
      "     * @param newMode 新的操作符模式。\n",
      "     * @param num     操作数。\n",
      "     * @return 计算结果。\n",
      "     */\n",
      "    public Double calculateBi(BiOperatorModes newMode, Double num) {\n",
      "        if (mode == BiOperatorModes.normal) {\n",
      "            num2 = 0.0;\n",
      "            num1 = num;\n",
      "            mode = newMode;\n",
      "            return NaN;\n",
      "        } else {\n",
      "            num2 = num;\n",
      "            num1 = calculateBiImpl();\n",
      "            mode = newMode;\n",
      "            return num1;\n",
      "        }\n",
      "    }\n",
      "\n",
      "    /**\n",
      "     * 根据给定的操作数计算结果。\n",
      "     *\n",
      "     * @param num 操作数。\n",
      "     * @return 计算结果。\n",
      "     */\n",
      "    public Double calculateEqual(Double num) {\n",
      "        return calculateBi(BiOperatorModes.normal, num);\n",
      "    }\n",
      "\n",
      "    /**\n",
      "     * 重置计算器的状态。\n",
      "     *\n",
      "     * @return NaN。\n",
      "     */\n",
      "    public Double reset() {\n",
      "        num2 = 0.0;\n",
      "        num1 = 0.0;\n",
      "        mode = BiOperatorModes.normal;\n",
      "\n",
      "        return NaN;\n",
      "    }\n",
      "}\n",
      "``````java\n",
      "public class Calculator {\n",
      "    /**\n",
      "     * 双操作符模式枚举类，包含常见的双操作符模式。\n",
      "     */\n",
      "    public enum BiOperatorModes {\n",
      "        normal, add, minus, multiply, divide , xpowerofy \n",
      "    }\n",
      "\n",
      "    /**\n",
      "     * 单操作符模式枚举类，包含常见的单操作符模式。\n",
      "     */\n",
      "    public enum MonoOperatorModes {\n",
      "        square, squareRoot, oneDividedBy, cos, sin, tan, log, rate, abs, ln,\n",
      "    }\n",
      "\n",
      "    private Double num1, num2;\n",
      "    private BiOperatorModes mode = BiOperatorModes.normal;\n",
      "\n",
      "    /**\n",
      "     * 根据当前的操作符模式计算双操作数的结果。\n",
      "     *\n",
      "     * @return 双操作数的计算结果。\n",
      "     */\n",
      "    private Double calculateBiImpl() {\n",
      "        if (mode == BiOperatorModes.normal) {\n",
      "            return num2;\n",
      "        }\n",
      "        if (mode == BiOperatorModes.add) {\n",
      "            if (num2 != 0) {\n",
      "                return num1 + num2;\n",
      "            }\n",
      "\n",
      "            return num1;\n",
      "        }\n",
      "        if (mode == BiOperatorModes.minus) {\n",
      "            return num1 - num2;\n",
      "        }\n",
      "        if (mode == BiOperatorModes.multiply) {\n",
      "            return num1 * num2;\n",
      "        }\n",
      "        if (mode == BiOperatorModes.divide) {\n",
      "            return num1 / num2;\n",
      "        }\n",
      "        if (mode == BiOperatorModes.xpowerofy) {\n",
      "            return pow(num1,num2);\n",
      "        }\n",
      "\n",
      "        // 永远不会执行到这里\n",
      "        throw new Error();\n",
      "    }\n",
      "\n",
      "    /**\n",
      "     * 根据给定的操作符模式和操作数计算结果。\n",
      "     *\n",
      "     * @param newMode 新的操作符模式。\n",
      "     * @param num     操作数。\n",
      "     * @return 计算结果。\n",
      "     */\n",
      "    public Double calculateBi(BiOperatorModes newMode, Double num) {\n",
      "        if (mode == BiOperatorModes.normal) {\n",
      "            num2 = 0.0;\n",
      "            num1 = num;\n",
      "            mode = newMode;\n",
      "            return NaN;\n",
      "        } else {\n",
      "            num2 = num;\n",
      "            num1 = calculateBiImpl();\n",
      "            mode = newMode;\n",
      "            return num1;\n",
      "        }\n",
      "    }\n",
      "\n",
      "    /**\n",
      "     * 根据给定的操作数计算结果。\n",
      "     *\n",
      "     * @param num 操作数。\n",
      "     * @return 计算结果。\n",
      "     */\n",
      "    public Double calculateEqual(Double num) {\n",
      "        return calculateBi(BiOperatorModes.normal, num);\n",
      "    }\n",
      "\n",
      "    /**\n",
      "     * 重置计算器的状态。\n",
      "     *\n",
      "     * @return NaN。\n",
      "     */\n",
      "    public Double reset() {\n",
      "        num2 = 0.0;\n",
      "        num1 = 0.0;\n",
      "        mode = BiOperatorModes.normal;\n",
      "\n",
      "        return NaN;\n",
      "    }\n",
      "}\n",
      "```\n",
      "```java\n",
      "public Double calculateMono(MonoOperatorModes newMode, Double num) {\n",
      "    // 根据不同的操作模式进行计算并返回结果\n",
      "\n",
      "    if (newMode == MonoOperatorModes.square) {\n",
      "        // 如果操作模式是平方，则返回数字的平方\n",
      "        return num * num;\n",
      "    }\n",
      "    if (newMode == MonoOperatorModes.squareRoot) {\n",
      "        // 如果操作模式是平方根，则返回数字的平方根\n",
      "        return Math.sqrt(num);\n",
      "    }\n",
      "    if (newMode == MonoOperatorModes.oneDividedBy) {\n",
      "        // 如果操作模式是倒数，则返回数字的倒数\n",
      "        return 1 / num;\n",
      "    }\n",
      "    if (newMode == MonoOperatorModes.cos) {\n",
      "        // 如果操作模式是余弦，则返回数字的余弦值\n",
      "        return Math.cos(Math.toRadians(num));\n",
      "    }\n",
      "    if (newMode == MonoOperatorModes.sin) {\n",
      "        // 如果操作模式是正弦，则返回数字的正弦值\n",
      "        return Math.sin(Math.toRadians(num));\n",
      "    }\n",
      "    if (newMode == MonoOperatorModes.tan) {\n",
      "        // 如果操作模式是正切，则返回数字的正切值\n",
      "        if (num == 0 || num % 180 == 0) {\n",
      "            // 如果数字为0或者是180的倍数，则返回0.0\n",
      "            return 0.0;\n",
      "        }\n",
      "        if (num % 90 == 0 && num % 180 != 0) {\n",
      "            // 如果数字是90的倍数但不是180的倍数，则返回NaN\n",
      "            return NaN;\n",
      "        }\n",
      "\n",
      "        return Math.tan(Math.toRadians(num));\n",
      "    }\n",
      "    if (newMode == MonoOperatorModes.log) {\n",
      "        // 如果操作模式是对数，则返回数字的以10为底的对数\n",
      "        return log10(num);\n",
      "    }\n",
      "    if (newMode == MonoOperatorModes.ln) {\n",
      "        // 如果操作模式是自然对数，则返回数字的自然对数\n",
      "        return log(num);\n",
      "    }\n",
      "    if (newMode == MonoOperatorModes.rate) {\n",
      "        // 如果操作模式是百分比，则返回数字除以100的结果\n",
      "        return num / 100;\n",
      "    }\n",
      "    if (newMode == MonoOperatorModes.abs){\n",
      "        // 如果操作模式是绝对值，则返回数字的绝对值\n",
      "        return Math.abs(num);\n",
      "    }\n",
      "\n",
      "    // 如果没有匹配的操作模式，则抛出错误\n",
      "    throw new Error();\n",
      "}\n",
      "``````java\n",
      "public Double calculateMono(MonoOperatorModes newMode, Double num) {\n",
      "    // 根据不同的操作模式进行计算并返回结果\n",
      "\n",
      "    if (newMode == MonoOperatorModes.square) {\n",
      "        // 如果操作模式是平方，则返回数字的平方\n",
      "        return num * num;\n",
      "    }\n",
      "    if (newMode == MonoOperatorModes.squareRoot) {\n",
      "        // 如果操作模式是平方根，则返回数字的平方根\n",
      "        return Math.sqrt(num);\n",
      "    }\n",
      "    if (newMode == MonoOperatorModes.oneDividedBy) {\n",
      "        // 如果操作模式是倒数，则返回数字的倒数\n",
      "        return 1 / num;\n",
      "    }\n",
      "    if (newMode == MonoOperatorModes.cos) {\n",
      "        // 如果操作模式是余弦，则返回数字的余弦值\n",
      "        return Math.cos(Math.toRadians(num));\n",
      "    }\n",
      "    if (newMode == MonoOperatorModes.sin) {\n",
      "        // 如果操作模式是正弦，则返回数字的正弦值\n",
      "        return Math.sin(Math.toRadians(num));\n",
      "    }\n",
      "    if (newMode == MonoOperatorModes.tan) {\n",
      "        // 如果操作模式是正切，则返回数字的正切值\n",
      "        if (num == 0 || num % 180 == 0) {\n",
      "            // 如果数字为0或者是180的倍数，则返回0.0\n",
      "            return 0.0;\n",
      "        }\n",
      "        if (num % 90 == 0 && num % 180 != 0) {\n",
      "            // 如果数字是90的倍数但不是180的倍数，则返回NaN\n",
      "            return NaN;\n",
      "        }\n",
      "\n",
      "        return Math.tan(Math.toRadians(num));\n",
      "    }\n",
      "    if (newMode == MonoOperatorModes.log) {\n",
      "        // 如果操作模式是对数，则返回数字的以10为底的对数\n",
      "        return log10(num);\n",
      "    }\n",
      "    if (newMode == MonoOperatorModes.ln) {\n",
      "        // 如果操作模式是自然对数，则返回数字的自然对数\n",
      "        return log(num);\n",
      "    }\n",
      "    if (newMode == MonoOperatorModes.rate) {\n",
      "        // 如果操作模式是百分比，则返回数字除以100的结果\n",
      "        return num / 100;\n",
      "    }\n",
      "    if (newMode == MonoOperatorModes.abs){\n",
      "        // 如果操作模式是绝对值，则返回数字的绝对值\n",
      "        return Math.abs(num);\n",
      "    }\n",
      "\n",
      "    // 如果没有匹配的操作模式，则抛出错误\n",
      "    throw new Error();\n",
      "}\n",
      "```\n"
     ]
    },
    {
     "data": {
      "text/plain": [
       "['```java\\npackage simplejavacalculator;\\n\\nimport static java.lang.Double.NaN;\\nimport static java.lang.Math.log;\\nimport static java.lang.Math.log10;\\nimport static java.lang.Math.pow;\\n```\\n这段代码是导入了一些静态方法和常量。其中包括：\\n- `NaN`：表示不是一个数字的常量。\\n- `log`：计算自然对数的静态方法。\\n- `log10`：计算以10为底的对数的静态方法。\\n- `pow`：计算指定次幂的静态方法。',\n",
       " '```java\\npublic class Calculator {\\n    /**\\n     * 双操作符模式枚举类，包含常见的双操作符模式。\\n     */\\n    public enum BiOperatorModes {\\n        normal, add, minus, multiply, divide , xpowerofy \\n    }\\n\\n    /**\\n     * 单操作符模式枚举类，包含常见的单操作符模式。\\n     */\\n    public enum MonoOperatorModes {\\n        square, squareRoot, oneDividedBy, cos, sin, tan, log, rate, abs, ln,\\n    }\\n\\n    private Double num1, num2;\\n    private BiOperatorModes mode = BiOperatorModes.normal;\\n\\n    /**\\n     * 根据当前的操作符模式计算双操作数的结果。\\n     *\\n     * @return 双操作数的计算结果。\\n     */\\n    private Double calculateBiImpl() {\\n        if (mode == BiOperatorModes.normal) {\\n            return num2;\\n        }\\n        if (mode == BiOperatorModes.add) {\\n            if (num2 != 0) {\\n                return num1 + num2;\\n            }\\n\\n            return num1;\\n        }\\n        if (mode == BiOperatorModes.minus) {\\n            return num1 - num2;\\n        }\\n        if (mode == BiOperatorModes.multiply) {\\n            return num1 * num2;\\n        }\\n        if (mode == BiOperatorModes.divide) {\\n            return num1 / num2;\\n        }\\n        if (mode == BiOperatorModes.xpowerofy) {\\n            return pow(num1,num2);\\n        }\\n\\n        // 永远不会执行到这里\\n        throw new Error();\\n    }\\n\\n    /**\\n     * 根据给定的操作符模式和操作数计算结果。\\n     *\\n     * @param newMode 新的操作符模式。\\n     * @param num     操作数。\\n     * @return 计算结果。\\n     */\\n    public Double calculateBi(BiOperatorModes newMode, Double num) {\\n        if (mode == BiOperatorModes.normal) {\\n            num2 = 0.0;\\n            num1 = num;\\n            mode = newMode;\\n            return NaN;\\n        } else {\\n            num2 = num;\\n            num1 = calculateBiImpl();\\n            mode = newMode;\\n            return num1;\\n        }\\n    }\\n\\n    /**\\n     * 根据给定的操作数计算结果。\\n     *\\n     * @param num 操作数。\\n     * @return 计算结果。\\n     */\\n    public Double calculateEqual(Double num) {\\n        return calculateBi(BiOperatorModes.normal, num);\\n    }\\n\\n    /**\\n     * 重置计算器的状态。\\n     *\\n     * @return NaN。\\n     */\\n    public Double reset() {\\n        num2 = 0.0;\\n        num1 = 0.0;\\n        mode = BiOperatorModes.normal;\\n\\n        return NaN;\\n    }\\n}\\n```',\n",
       " '```java\\npublic Double calculateMono(MonoOperatorModes newMode, Double num) {\\n    // 根据不同的操作模式进行计算并返回结果\\n\\n    if (newMode == MonoOperatorModes.square) {\\n        // 如果操作模式是平方，则返回数字的平方\\n        return num * num;\\n    }\\n    if (newMode == MonoOperatorModes.squareRoot) {\\n        // 如果操作模式是平方根，则返回数字的平方根\\n        return Math.sqrt(num);\\n    }\\n    if (newMode == MonoOperatorModes.oneDividedBy) {\\n        // 如果操作模式是倒数，则返回数字的倒数\\n        return 1 / num;\\n    }\\n    if (newMode == MonoOperatorModes.cos) {\\n        // 如果操作模式是余弦，则返回数字的余弦值\\n        return Math.cos(Math.toRadians(num));\\n    }\\n    if (newMode == MonoOperatorModes.sin) {\\n        // 如果操作模式是正弦，则返回数字的正弦值\\n        return Math.sin(Math.toRadians(num));\\n    }\\n    if (newMode == MonoOperatorModes.tan) {\\n        // 如果操作模式是正切，则返回数字的正切值\\n        if (num == 0 || num % 180 == 0) {\\n            // 如果数字为0或者是180的倍数，则返回0.0\\n            return 0.0;\\n        }\\n        if (num % 90 == 0 && num % 180 != 0) {\\n            // 如果数字是90的倍数但不是180的倍数，则返回NaN\\n            return NaN;\\n        }\\n\\n        return Math.tan(Math.toRadians(num));\\n    }\\n    if (newMode == MonoOperatorModes.log) {\\n        // 如果操作模式是对数，则返回数字的以10为底的对数\\n        return log10(num);\\n    }\\n    if (newMode == MonoOperatorModes.ln) {\\n        // 如果操作模式是自然对数，则返回数字的自然对数\\n        return log(num);\\n    }\\n    if (newMode == MonoOperatorModes.rate) {\\n        // 如果操作模式是百分比，则返回数字除以100的结果\\n        return num / 100;\\n    }\\n    if (newMode == MonoOperatorModes.abs){\\n        // 如果操作模式是绝对值，则返回数字的绝对值\\n        return Math.abs(num);\\n    }\\n\\n    // 如果没有匹配的操作模式，则抛出错误\\n    throw new Error();\\n}\\n```']"
      ]
     },
     "execution_count": 34,
     "metadata": {},
     "output_type": "execute_result"
    }
   ],
   "source": [
    "rt = []\n",
    "for t in texts:\n",
    "    one = get_comment(t.page_content)\n",
    "    print(one)\n",
    "    rt.append(one)\n",
    "rt"
   ]
  },
  {
   "cell_type": "code",
   "execution_count": 29,
   "metadata": {},
   "outputs": [
    {
     "data": {
      "text/plain": [
       "1640"
      ]
     },
     "execution_count": 29,
     "metadata": {},
     "output_type": "execute_result"
    }
   ],
   "source": [
    "len(texts[1].page_content)"
   ]
  },
  {
   "cell_type": "code",
   "execution_count": 22,
   "metadata": {},
   "outputs": [
    {
     "data": {
      "text/plain": [
       "'```java\\npackage simplejavacalculator;\\n\\nimport static java.lang.Double.NaN;\\nimport static java.lang.Math.log;\\nimport static java.lang.Math.log10;\\nimport static java.lang.Math.pow;\\n```\\n这段代码是导入了一些静态方法和常量。其中包括：\\n- `NaN`：表示不是一个数字的常量。\\n- `log`：计算自然对数的静态方法。\\n- `log10`：计算以10为底的对数的静态方法。\\n- `pow`：计算指定次幂的静态方法。'"
      ]
     },
     "execution_count": 22,
     "metadata": {},
     "output_type": "execute_result"
    }
   ],
   "source": [
    "rt = get_comment(texts[0].page_content)\n",
    "rt"
   ]
  },
  {
   "cell_type": "code",
   "execution_count": null,
   "metadata": {},
   "outputs": [],
   "source": [
    "rt = \"-----\\n\".join(s_lst)\n",
    "print(rt)"
   ]
  },
  {
   "cell_type": "code",
   "execution_count": 15,
   "metadata": {},
   "outputs": [
    {
     "name": "stdout",
     "output_type": "stream",
     "text": [
      "```java\n",
      "public Double calculateMono(MonoOperatorModes newMode, Double num) {\n",
      "    // 根据不同的操作模式进行计算并返回结果\n",
      "\n",
      "    if (newMode == MonoOperatorModes.square) {\n",
      "        // 如果操作模式是平方，则返回数字的平方\n",
      "        return num * num;\n",
      "    }\n",
      "    if (newMode == MonoOperatorModes.squareRoot) {\n",
      "        // 如果操作模式是平方根，则返回数字的平方根\n",
      "        return Math.sqrt(num);\n",
      "    }\n",
      "    if (newMode == MonoOperatorModes.oneDividedBy) {\n",
      "        // 如果操作模式是倒数，则返回数字的倒数\n",
      "        return 1 / num;\n",
      "    }\n",
      "    if (newMode == MonoOperatorModes.cos) {\n",
      "        // 如果操作模式是余弦，则返回数字的余弦值\n",
      "        return Math.cos(Math.toRadians(num));\n",
      "    }\n",
      "    if (newMode == MonoOperatorModes.sin) {\n",
      "        // 如果操作模式是正弦，则返回数字的正弦值\n",
      "        return Math.sin(Math.toRadians(num));\n",
      "    }\n",
      "    if (newMode == MonoOperatorModes.tan) {\n",
      "        // 如果操作模式是正切，则返回数字的正切值\n",
      "        if (num == 0 || num % 180 == 0) {\n",
      "            return 0.0;\n",
      "        }\n",
      "        if (num % 90 == 0 && num % 180 != 0) {\n",
      "            return NaN;\n",
      "        }\n",
      "\n",
      "        return Math.tan(Math.toRadians(num));\n",
      "    }\n",
      "    if (newMode == MonoOperatorModes.log) {\n",
      "        // 如果操作模式是对数，则返回数字的以10为底的对数\n",
      "        return log10(num);\n",
      "    }\n",
      "    if (newMode == MonoOperatorModes.ln) {\n",
      "        // 如果操作模式是自然对数，则返回数字的自然对数\n",
      "        return log(num);\n",
      "    }\n",
      "    if (newMode == MonoOperatorModes.rate) {\n",
      "        // 如果操作模式是百分比，则返回数字除以100的结果\n",
      "        return num / 100;\n",
      "    }\n",
      "    if (newMode == MonoOperatorModes.abs){\n",
      "        // 如果操作模式是绝对值，则返回数字的绝对值\n",
      "        return Math.abs(num);\n",
      "    }\n",
      "\n",
      "    // 如果没有匹配的操作模式，则抛出错误\n",
      "    throw new Error();\n",
      "}\n",
      "```\n"
     ]
    }
   ],
   "source": [
    "print(s_lst[-1])"
   ]
  },
  {
   "cell_type": "code",
   "execution_count": null,
   "metadata": {},
   "outputs": [],
   "source": []
  },
  {
   "cell_type": "code",
   "execution_count": 85,
   "metadata": {},
   "outputs": [
    {
     "data": {
      "text/plain": [
       "str"
      ]
     },
     "execution_count": 85,
     "metadata": {},
     "output_type": "execute_result"
    }
   ],
   "source": [
    "type(s_lst[0])"
   ]
  },
  {
   "cell_type": "code",
   "execution_count": 54,
   "metadata": {},
   "outputs": [
    {
     "data": {
      "text/plain": [
       "1"
      ]
     },
     "execution_count": 54,
     "metadata": {},
     "output_type": "execute_result"
    }
   ],
   "source": [
    "s_lst[-1].count(\"cpp\")"
   ]
  },
  {
   "cell_type": "code",
   "execution_count": 16,
   "metadata": {},
   "outputs": [
    {
     "data": {
      "text/plain": [
       "'```java\\npackage simplejavacalculator;\\n\\nimport static java.lang.Double.NaN;\\nimport static java.lang.Math.log;\\nimport static java.lang.Math.log10;\\nimport static java.lang.Math.pow;\\n```\\n这段代码是导入了一些静态方法和常量。其中包括：\\n- `NaN`：表示不是一个数字的常量。\\n- `log`：计算自然对数的静态方法。\\n- `log10`：计算以10为底的对数的静态方法。\\n- `pow`：计算指定次幂的静态方法。'"
      ]
     },
     "execution_count": 16,
     "metadata": {},
     "output_type": "execute_result"
    }
   ],
   "source": [
    "s_lst[0]"
   ]
  },
  {
   "cell_type": "code",
   "execution_count": 17,
   "metadata": {},
   "outputs": [],
   "source": [
    "\n",
    "from main import get_language\n",
    "language = get_language(file_path)\n",
    "def extract_code(language, text):\n",
    "    language_patterns = {\n",
    "    'js': r'```(js|javascript)\\n(.*?)```',\n",
    "    'python': r'```python\\n(.*?)```',\n",
    "    'java': r'```java\\n(.*?)```',\n",
    "    'cpp': r'```cpp\\n(.*?)```',\n",
    "}\n",
    "    pattern = r'```java\\n(.*?)```' \n",
    "    # pattern = language_patterns.get(language.value, r'```(\\w+)\\n(.*?)```')\n",
    "    print(f\"the pattern is {pattern}\")\n",
    "    matches = re.findall(pattern, text, re.DOTALL)\n",
    "    if not matches:\n",
    "        return \"\"\n",
    "    return \"\\n\".join(matches) \n",
    "    "
   ]
  },
  {
   "cell_type": "code",
   "execution_count": 139,
   "metadata": {},
   "outputs": [
    {
     "name": "stdout",
     "output_type": "stream",
     "text": [
      "java\n"
     ]
    }
   ],
   "source": [
    "print(language.value)"
   ]
  },
  {
   "cell_type": "code",
   "execution_count": 18,
   "metadata": {},
   "outputs": [
    {
     "name": "stdout",
     "output_type": "stream",
     "text": [
      "The str is ```java\n",
      "package simplejavacalculator;\n",
      "\n",
      "import static java.lang.Double.NaN;\n",
      "import static java.lang.Math.log;\n",
      "import static java.lang.Math.log10;\n",
      "import static java.lang.Math.pow;\n",
      "```\n",
      "这段代码是导入了一些静态方法和常量。其中包括：\n",
      "- `NaN`：表示不是一个数字的常量。\n",
      "- `log`：计算自然对数的静态方法。\n",
      "- `log10`：计算以10为底的对数的静态方法。\n",
      "- `pow`：计算指定次幂的静态方法。\n",
      "the pattern is ```java\\n(.*?)```\n",
      "result is package simplejavacalculator;\n",
      "\n",
      "import static java.lang.Double.NaN;\n",
      "import static java.lang.Math.log;\n",
      "import static java.lang.Math.log10;\n",
      "import static java.lang.Math.pow;\n",
      "\n"
     ]
    }
   ],
   "source": [
    "text = s_lst[0]\n",
    "print(f\"The str is {text}\")\n",
    "rt = extract_code(language, text)\n",
    "print(f\"result is {rt}\")\n",
    "# print(\"\\n\".join([r for r in rt]))"
   ]
  },
  {
   "cell_type": "code",
   "execution_count": 7,
   "metadata": {},
   "outputs": [],
   "source": [
    "from enum import Enum\n",
    "class MyLanguage(Enum):\n",
    "    PYTHON = \"python\"\n",
    "    JAVA = \"java\"\n",
    "    CPP = \"cpp\"\n",
    "    JS = \"js\"\n",
    "\n"
   ]
  },
  {
   "cell_type": "code",
   "execution_count": null,
   "metadata": {},
   "outputs": [],
   "source": []
  }
 ],
 "metadata": {
  "kernelspec": {
   "display_name": "nlp",
   "language": "python",
   "name": "python3"
  },
  "language_info": {
   "codemirror_mode": {
    "name": "ipython",
    "version": 3
   },
   "file_extension": ".py",
   "mimetype": "text/x-python",
   "name": "python",
   "nbconvert_exporter": "python",
   "pygments_lexer": "ipython3",
   "version": "3.10.13"
  }
 },
 "nbformat": 4,
 "nbformat_minor": 2
}
